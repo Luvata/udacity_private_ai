{
 "cells": [
  {
   "cell_type": "markdown",
   "metadata": {},
   "source": [
    "# Local and Global Differential Privacy"
   ]
  },
  {
   "cell_type": "code",
   "execution_count": 1,
   "metadata": {},
   "outputs": [],
   "source": [
    "import sys\n",
    "sys.path.append(\"..\") # add parent directory to path\n",
    "from common import *"
   ]
  },
  {
   "cell_type": "code",
   "execution_count": 2,
   "metadata": {},
   "outputs": [],
   "source": [
    "import torch"
   ]
  },
  {
   "cell_type": "markdown",
   "metadata": {},
   "source": [
    "## Project: Local Differential Privacy\n",
    "As you can see, the basic sum query is not differentially private at all! In truth, differential privacy always requires a form of randomness added to the query. Let me show you what I mean.\n",
    "\n",
    "### Randomized Response (Local Differential Privacy)\n",
    "Let's say I have a group of people I wish to survey about a very taboo behavior which I think they will lie about (say, I want to know if they have ever committed a certain kind of crime). I'm not a policeman, I'm just trying to collect statistics to understand the higher level trend in society. So, how do we do this? One technique is to add randomness to each person's response by giving each person the following instructions (assuming I'm asking a simple yes/no question):\n",
    "\n",
    "- Flip a coin 2 times.\n",
    "- If the first coin flip is heads, answer honestly\n",
    "- If the first coin flip is tails, answer according to the second coin flip (heads for yes, tails for no)!\n",
    "\n",
    "Thus, each person is now protected with \"plausible deniability\". If they answer \"Yes\" to the question \"have you committed X crime?\", then it might becasue they actually did, or it might be becasue they are answering according to a random coin flip. Each person has a high degree of protection. Furthermore, we can recover the underlying statistics with some accuracy, as the \"true statistics\" are simply averaged with a 50% probability. Thus, if we collect a bunch of samples and it turns out that 60% of people answer yes, then we know that the TRUE distribution is actually centered around 70%, because 70% averaged wtih 50% (a coin flip) is 60% which is the result we obtained.\n",
    "\n",
    "However, it should be noted that, especially when we only have a few samples, this comes at the cost of accuracy. This tradeoff exists across all of Differential Privacy. The greater the privacy protection (plausible deniability) the less accurate the results.\n",
    "\n",
    "Let's implement this local DP for our database before!"
   ]
  },
  {
   "cell_type": "code",
   "execution_count": 3,
   "metadata": {},
   "outputs": [],
   "source": [
    "def get_augment_db(db, noise=0.5):\n",
    "    \"\"\"\n",
    "    Return an augmented db with the 2 coin flip strategy\n",
    "    \"\"\"\n",
    "    p_head = 1 - noise\n",
    "    noise_db = db.clone().float()\n",
    "    num_entries = len(db)\n",
    "    flip_no1 = (torch.rand(num_entries) < p_head).float()\n",
    "    flip_no2 = (torch.rand(num_entries) < 0.5).float() # 2nd flip is always 50 50\n",
    "    # if the first coin is head, answer honestly -> Keep db at indices where flip_no1 == 1\n",
    "    # else, return the value of the second coin  -> Replace db at indices leftover\n",
    "    # insort, we copy flip_no2 to db at indices where flip_no1 is tail\n",
    "    noise_db[flip_no1 != 1] = flip_no2[flip_no1 != 1]\n",
    "    return noise_db\n",
    "    \n",
    "    \n",
    "def reverse_actual_percentage(augmented_percentage, noise=0.5) -> float:\n",
    "    \"\"\"\n",
    "    Average the actual positive of the population, given the query result and\n",
    "    probability of flipping a head (See more on README.md) \n",
    "    \"\"\"\n",
    "    p_head = 1 - noise\n",
    "    return (augmented_percentage - (1 - p_head) * 0.5) / p_head\n",
    "    "
   ]
  },
  {
   "cell_type": "code",
   "execution_count": 4,
   "metadata": {},
   "outputs": [],
   "source": [
    "def query(db):\n",
    "    return db.float().mean()"
   ]
  },
  {
   "cell_type": "code",
   "execution_count": 5,
   "metadata": {},
   "outputs": [],
   "source": [
    "import matplotlib.pyplot as plt\n",
    "%matplotlib inline"
   ]
  },
  {
   "cell_type": "code",
   "execution_count": 6,
   "metadata": {},
   "outputs": [],
   "source": [
    "num_test = 1000\n",
    "list_num_entries = [1e1, 1e2, 1e3, 1e4, 1e5, 1e6]\n",
    "mean_arr = []\n",
    "\n",
    "for num_entries in list_num_entries:\n",
    "    db = (torch.rand(int(num_entries)) > 0.5).float()\n",
    "    actual_mean = torch.mean(db)\n",
    "    differ = []\n",
    "    for _ in range(num_test):\n",
    "        aug_db = get_augment_db(db)\n",
    "        aug_mean = reverse_actual_percentage(torch.mean(aug_db))\n",
    "        d = torch.abs(aug_mean - actual_mean)\n",
    "        differ.append(d.item())\n",
    "    mean_arr.append(differ)\n",
    "    "
   ]
  },
  {
   "cell_type": "code",
   "execution_count": 7,
   "metadata": {},
   "outputs": [
    {
     "data": {
      "image/png": "[encoded data removed]",
      "text/plain": [
       "<Figure size 864x432 with 1 Axes>"
      ]
     },
     "metadata": {
      "needs_background": "light"
     },
     "output_type": "display_data"
    }
   ],
   "source": [
    "plt.figure(figsize=(12, 6))\n",
    "plt.title(\"Relation of population size and result deviation\")\n",
    "plt.boxplot(mean_arr)\n",
    "plt.xlabel(\"Population size (10^x)\")\n",
    "plt.ylabel(\"Deviation\")\n",
    "# plt.savefig(\"relation1.png\", dpi=200)\n",
    "plt.show()"
   ]
  },
  {
   "cell_type": "markdown",
   "metadata": {},
   "source": [
    "We can see that when the **population size increase**, Population's actual mean and augmented mean are getting **closer**"
   ]
  },
  {
   "cell_type": "markdown",
   "metadata": {},
   "source": [
    "## Project: Varying Amounts of Noise\n",
    "In this project, I want you to **augment the randomized response query** (the one we just wrote) to allow for varying amounts of randomness to be added. Specifically, I want you to **bias the first coin flip** to be higher or lower and then run the same experiment.\n",
    "\n",
    "Note - this one is a bit tricker than you might expect. You need to both adjust the likelihood of the first coin flip AND the de-skewing at the end (where we create the \"augmented_result\" variable)."
   ]
  },
  {
   "cell_type": "markdown",
   "metadata": {},
   "source": [
    "My code still work fine :D"
   ]
  },
  {
   "cell_type": "code",
   "execution_count": 8,
   "metadata": {},
   "outputs": [],
   "source": [
    "def get_differ_distribution(num_entries, list_noise=[0.1, 0.3, 0.5, 0.7, 0.9]):\n",
    "    \"\"\"\n",
    "    Generate List[List[float]] with each List[float] is the difference of actual mean and\n",
    "    average mean which is calculated from augmented mean\n",
    "    \"\"\"\n",
    "    # Generate DB\n",
    "    db = (torch.rand(num_entries) > 0.5).float()\n",
    "    actual_mean = query(db)\n",
    "    result = []\n",
    "    for noise in list_noise:\n",
    "        query_differ = []\n",
    "        for _ in range(num_test):\n",
    "            aug_db = get_augment_db(db, noise)\n",
    "            aug_mean = query(aug_db)\n",
    "            aug_mean = reverse_actual_percentage(aug_mean, noise)\n",
    "            query_differ.append(torch.abs(actual_mean - aug_mean).item())\n",
    "        result.append(query_differ)\n",
    "    return result\n",
    "\n",
    "    \n",
    "def plot_box(num_entries, result, list_noise):\n",
    "#     plt.figure(figsize=(6, 10))\n",
    "    plt.title(f\"Relation of noise and deviation (N = {num_entries})\")\n",
    "    plt.boxplot(result)\n",
    "    num_noise = len(list_noise)\n",
    "    plt.xticks(ticks=range(1, num_noise + 1), labels=list_noise)\n",
    "    plt.xlabel(\"Noise\")\n",
    "    plt.ylabel(\"Difference\")\n"
   ]
  },
  {
   "cell_type": "code",
   "execution_count": 9,
   "metadata": {},
   "outputs": [],
   "source": [
    "list_noise = [0.1, 0.3, 0.5, 0.7, 0.9]\n",
    "num_entries = 1000\n",
    "res1000 = get_differ_distribution(num_entries, list_noise)"
   ]
  },
  {
   "cell_type": "code",
   "execution_count": 10,
   "metadata": {},
   "outputs": [],
   "source": [
    "list_noise = [0.1, 0.3, 0.5, 0.7, 0.9]\n",
    "num_entries = 100000\n",
    "res100000 = get_differ_distribution(num_entries, list_noise)"
   ]
  },
  {
   "cell_type": "code",
   "execution_count": 11,
   "metadata": {},
   "outputs": [
    {
     "data": {
      "image/png": "[encoded data removed]",
      "text/plain": [
       "<Figure size 864x576 with 2 Axes>"
      ]
     },
     "metadata": {
      "needs_background": "light"
     },
     "output_type": "display_data"
    }
   ],
   "source": [
    "plt.figure(figsize=(12, 8))\n",
    "plt.subplot(1, 2, 1)\n",
    "plot_box(1000, res1000, list_noise)\n",
    "plt.subplot(1, 2, 2)\n",
    "plot_box(100000, res100000, list_noise)\n",
    "# plt.savefig(\"relation2.png\", dpi=200)\n",
    "plt.show()"
   ]
  },
  {
   "cell_type": "markdown",
   "metadata": {},
   "source": [
    "Beside the exponential increment of deviation when noise increase, we can see that when the population increase, the deviation is getting smaller. "
   ]
  },
  {
   "cell_type": "markdown",
   "metadata": {},
   "source": [
    "## Lesson: The Formal Definition of Differential Privacy\n",
    "The previous method of adding noise was called \"Local Differentail Privacy\" because we added noise to each datapoint individually. This is necessary for some situations wherein the data is SO sensitive that individuals do not trust noise to be added later. However, it comes at a very high cost in terms of accuracy.\n",
    "\n",
    "However, alternatively we can add noise **AFTER** data has been aggregated by a function. This kind of noise can allow for similar levels of protection with a **lower affect on accuracy**. However, participants must be able to **trust** that **no-one looked at their datapoints before the aggregation took place**. In some situations this works out well, in others (such as an individual hand-surveying a group of people), this is less realistic.\n",
    "\n",
    "Nevertheless, global differential privacy is incredibly important because it allows us to perform differential privacy on smaller groups of individuals with lower amounts of noise. Let's revisit our sum functions."
   ]
  },
  {
   "cell_type": "code",
   "execution_count": 12,
   "metadata": {},
   "outputs": [
    {
     "data": {
      "text/plain": [
       "tensor(52.)"
      ]
     },
     "execution_count": 12,
     "metadata": {},
     "output_type": "execute_result"
    }
   ],
   "source": [
    "db, pdbs = create_db_and_parallels(100)\n",
    "\n",
    "def query(db):\n",
    "    return torch.sum(db.float())\n",
    "\n",
    "def M(db):\n",
    "    query(db) + noise\n",
    "\n",
    "query(db)"
   ]
  },
  {
   "cell_type": "markdown",
   "metadata": {},
   "source": [
    "*Image From: \"The Algorithmic Foundations of Differential Privacy\" - Cynthia Dwork and Aaron Roth - https://www.cis.upenn.edu/~aaroth/Papers/privacybook.pdf*\n",
    "\n",
    "This definition does not create differential privacy, instead it is a measure of how much privacy is afforded by a query M. Specifically, it's a comparison between running the query M on a database (x) and a parallel database (y). As you remember, parallel databases are defined to be the same as a full database (x) with one entry/person removed.\n",
    "\n",
    "Thus, this definition says that FOR ALL parallel databases, the maximum distance between a query on database (x) and the same query on database (y) will be e^epsilon, but that occasionally this constraint won't hold with probability delta. Thus, this theorem is called \"epsilon delta\" differential privacy.\n",
    "\n",
    "### Epsilon\n",
    "Let's unpack the intuition of this for a moment.\n",
    "\n",
    "Epsilon Zero: If a query satisfied this inequality where epsilon was set to 0, then that would mean that the query for all parallel databases outputed the exact same value as the full database. As you may remember, when we calculated the \"threshold\" function, often the Sensitivity was 0. In that case, the epsilon also happened to be zero.\n",
    "\n",
    "Epsilon One: If a query satisfied this inequality with epsilon 1, then the maximum distance between all queries would be 1 - or more precisely - the maximum distance between the two random distributions M(x) and M(y) is 1 (because all these queries have some amount of randomness in them, just like we observed in the last section).\n",
    "\n",
    "### Delta\n",
    "Delta is basically **the probability that epsilon breaks**. Namely, sometimes the epsilon is different for some queries than it is for others. For example, you may remember when we were calculating the sensitivity of threshold, most of the time sensitivity was 0 but sometimes it was 1. Thus, we could calculate this as \"epsilon zero but non-zero delta\" which would say that epsilon is perfect except for some probability of the time when it's arbitrarily higher. Note that this expression doesn't represent the full tradeoff between epsilon and delta."
   ]
  },
  {
   "cell_type": "markdown",
   "metadata": {},
   "source": [
    "## Lesson: How To Add Noise for Global Differential Privacy\n",
    "In this lesson, we're going to learn about how to take a query and add varying amounts of noise so that it satisfies a certain degree of differential privacy. In particular, we're going to leave behind the Local Differential privacy previously discussed and instead opt to focus on Global differential privacy.\n",
    "\n",
    "So, to sum up, this lesson is about adding noise to the output of our query so that it satisfies a certain epsilon-delta differential privacy threshold.\n",
    "\n",
    "There are two kinds of noise we can add - Gaussian Noise or Laplacian Noise. Generally speaking Laplacian is better, but both are still valid. Now to the hard question...\n",
    "\n",
    "### How much noise should we add?\n",
    "The amount of noise necessary to add to the output of a query is a function of four things:\n",
    "- The type of noise (Gaussian/Laplacian)\n",
    "- The sensitivity of the query/function\n",
    "- The desired epsilon (ε)\n",
    "- The desired delta (δ)\n",
    "\n",
    "Thus, for each type of noise we're adding, we have different way of calculating how much to add as a function of sensitivity, epsilon, and delta. We're going to focus on Laplacian noise. Laplacian noise is increased/decreased according to a \"scale\" parameter b. We choose \"b\" based on the following formula.\n",
    "\n",
    "`b = sensitivity(query) / epsilon`\n",
    "\n",
    "In other words, if we set b to be this value, then we know that we will have a **privacy leakage of <= epsilon**. Furthermore, the nice thing about Laplace is that it guarantees this with delta == 0. There are some tunings where we can have very low epsilon where delta is non-zero, but we'll ignore them for now.\n",
    "\n",
    "### Querying Repeatedly\n",
    "if we query the database multiple times - we can simply add the epsilons (Even if we change the amount of noise and their epsilons are not the same)."
   ]
  },
  {
   "cell_type": "markdown",
   "metadata": {},
   "source": [
    "## Project: Create a Differentially Private Query\n",
    "In this project, I want you to take what you learned in the previous lesson and create a query function which sums over the database and adds just the right amount of noise such that it satisfies an epsilon constraint. Write a query for both \"sum\" and for \"mean\". Ensure that you use the correct sensitivity measures for both."
   ]
  },
  {
   "cell_type": "code",
   "execution_count": 14,
   "metadata": {},
   "outputs": [],
   "source": [
    "import numpy as np"
   ]
  },
  {
   "cell_type": "code",
   "execution_count": 39,
   "metadata": {},
   "outputs": [],
   "source": [
    "def sum_query(db):\n",
    "    return db.float().sum().item()\n",
    "\n",
    "def mean_query(db):\n",
    "    return db.float().mean().item()\n",
    "\n",
    "def laplacian_mechanism(db, query, sensitivity, epsilon):\n",
    "    beta = sensitivity / epsilon\n",
    "    noise = np.random.laplace(0, beta, size=1)[0]\n",
    "    return query(db) + noise\n"
   ]
  },
  {
   "cell_type": "markdown",
   "metadata": {},
   "source": [
    "We already know that sensitivity of `sum` is `1` "
   ]
  },
  {
   "cell_type": "code",
   "execution_count": 51,
   "metadata": {},
   "outputs": [],
   "source": [
    "num_entries = 1000\n",
    "SUM_SENSITIVITY = 1.\n",
    "MEAN_SENSITIVITY = 1./ num_entries"
   ]
  },
  {
   "cell_type": "code",
   "execution_count": 41,
   "metadata": {},
   "outputs": [],
   "source": [
    "db, pdbs = create_db_and_parallels(num_entries=num_entries)"
   ]
  },
  {
   "cell_type": "code",
   "execution_count": 53,
   "metadata": {},
   "outputs": [],
   "source": [
    "def query_repeat(db, query, sensitivity, epsilon, num_try= 1000):\n",
    "    return [laplacian_mechanism(db, query, sensitivity, epsilon) for _ in range(num_try)]"
   ]
  },
  {
   "cell_type": "code",
   "execution_count": 54,
   "metadata": {},
   "outputs": [],
   "source": [
    "def plot_distribution(epsilon):\n",
    "    augmented_sum_results = query_repeat(db, sum_query, SUM_SENSITIVITY, epsilon, 1000)\n",
    "    augmented_mean_results = query_repeat(db, mean_query, MEAN_SENSITIVITY, epsilon, 1000)\n",
    "    \n",
    "    plt.figure(figsize=(9, 4))\n",
    "    plt.subplot(1, 2, 1)\n",
    "    plt.hist(augmented_sum_results, bins=20, ec='k')\n",
    "    plt.axvline(sum_query(db), color='k', linestyle='dashed', linewidth=1, label='actual sum')\n",
    "    plt.legend()\n",
    "    plt.title(f\"Sum query, epsilon = {epsilon}\")\n",
    "\n",
    "    plt.subplot(1, 2, 2)\n",
    "    plt.hist(augmented_mean_results, bins=20, ec='k')\n",
    "    plt.axvline(mean_query(db), color='k', linestyle='dashed', linewidth=1, label='actual sum')\n",
    "    plt.legend()\n",
    "    plt.title(f\"Mean query, epsilon = {epsilon}\")\n",
    "    plt.show()"
   ]
  },
  {
   "cell_type": "code",
   "execution_count": 55,
   "metadata": {},
   "outputs": [
    {
     "data": {
      "image/png": "[encoded data removed]",
      "text/plain": [
       "<Figure size 648x288 with 2 Axes>"
      ]
     },
     "metadata": {
      "needs_background": "light"
     },
     "output_type": "display_data"
    }
   ],
   "source": [
    "plot_distribution(epsilon=0.5)"
   ]
  },
  {
   "cell_type": "code",
   "execution_count": 56,
   "metadata": {},
   "outputs": [
    {
     "data": {
      "image/png": "[encoded data removed]",
      "text/plain": [
       "<Figure size 648x288 with 2 Axes>"
      ]
     },
     "metadata": {
      "needs_background": "light"
     },
     "output_type": "display_data"
    }
   ],
   "source": [
    "plot_distribution(epsilon=0.0001)"
   ]
  },
  {
   "cell_type": "markdown",
   "metadata": {},
   "source": [
    "When **decrease epsilon**, a.k.a lower the privacy leakage, the **distribution** of augmented query **spread wider**, it means the **amount of noise added to the query is increased**. "
   ]
  }
 ],
 "metadata": {
  "kernelspec": {
   "display_name": "Python 3",
   "language": "python",
   "name": "python3"
  },
  "language_info": {
   "codemirror_mode": {
    "name": "ipython",
    "version": 3
   },
   "file_extension": ".py",
   "mimetype": "text/x-python",
   "name": "python",
   "nbconvert_exporter": "python",
   "pygments_lexer": "ipython3",
   "version": "3.7.1"
  }
 },
 "nbformat": 4,
 "nbformat_minor": 2
}
