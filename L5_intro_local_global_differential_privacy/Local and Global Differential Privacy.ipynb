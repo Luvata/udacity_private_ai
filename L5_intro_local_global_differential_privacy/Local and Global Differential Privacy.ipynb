{
 "cells": [
  {
   "cell_type": "markdown",
   "metadata": {},
   "source": [
    "# Local and Global Differential Privacy"
   ]
  },
  {
   "cell_type": "code",
   "execution_count": 1,
   "metadata": {},
   "outputs": [],
   "source": [
    "import sys\n",
    "sys.path.append(\"..\") # add parent directory to path\n",
    "from common import *"
   ]
  },
  {
   "cell_type": "code",
   "execution_count": 2,
   "metadata": {},
   "outputs": [],
   "source": [
    "import torch"
   ]
  },
  {
   "cell_type": "markdown",
   "metadata": {},
   "source": [
    "## Project: Local Differential Privacy\n",
    "As you can see, the basic sum query is not differentially private at all! In truth, differential privacy always requires a form of randomness added to the query. Let me show you what I mean.\n",
    "\n",
    "### Randomized Response (Local Differential Privacy)\n",
    "Let's say I have a group of people I wish to survey about a very taboo behavior which I think they will lie about (say, I want to know if they have ever committed a certain kind of crime). I'm not a policeman, I'm just trying to collect statistics to understand the higher level trend in society. So, how do we do this? One technique is to add randomness to each person's response by giving each person the following instructions (assuming I'm asking a simple yes/no question):\n",
    "\n",
    "- Flip a coin 2 times.\n",
    "- If the first coin flip is heads, answer honestly\n",
    "- If the first coin flip is tails, answer according to the second coin flip (heads for yes, tails for no)!\n",
    "\n",
    "Thus, each person is now protected with \"plausible deniability\". If they answer \"Yes\" to the question \"have you committed X crime?\", then it might becasue they actually did, or it might be becasue they are answering according to a random coin flip. Each person has a high degree of protection. Furthermore, we can recover the underlying statistics with some accuracy, as the \"true statistics\" are simply averaged with a 50% probability. Thus, if we collect a bunch of samples and it turns out that 60% of people answer yes, then we know that the TRUE distribution is actually centered around 70%, because 70% averaged wtih 50% (a coin flip) is 60% which is the result we obtained.\n",
    "\n",
    "However, it should be noted that, especially when we only have a few samples, this comes at the cost of accuracy. This tradeoff exists across all of Differential Privacy. The greater the privacy protection (plausible deniability) the less accurate the results.\n",
    "\n",
    "Let's implement this local DP for our database before!"
   ]
  },
  {
   "cell_type": "code",
   "execution_count": 3,
   "metadata": {},
   "outputs": [],
   "source": [
    "def get_augment_db(db, noise=0.5):\n",
    "    \"\"\"\n",
    "    Return an augmented db with the 2 coin flip strategy\n",
    "    \"\"\"\n",
    "    p_head = 1 - noise\n",
    "    noise_db = db.clone().float()\n",
    "    num_entries = len(db)\n",
    "    flip_no1 = (torch.rand(num_entries) < p_head).float()\n",
    "    flip_no2 = (torch.rand(num_entries) < 0.5).float() # 2nd flip is always 50 50\n",
    "    # if the first coin is head, answer honestly -> Keep db at indices where flip_no1 == 1\n",
    "    # else, return the value of the second coin  -> Replace db at indices leftover\n",
    "    # insort, we copy flip_no2 to db at indices where flip_no1 is tail\n",
    "    noise_db[flip_no1 != 1] = flip_no2[flip_no1 != 1]\n",
    "    return noise_db\n",
    "    \n",
    "    \n",
    "def reverse_actual_percentage(augmented_percentage, noise=0.5) -> float:\n",
    "    \"\"\"\n",
    "    Average the actual positive of the population, given the query result and\n",
    "    probability of flipping a head (See more on README.md) \n",
    "    \"\"\"\n",
    "    p_head = 1 - noise\n",
    "    return (augmented_percentage - (1 - p_head) * 0.5) / p_head\n",
    "    "
   ]
  },
  {
   "cell_type": "code",
   "execution_count": 4,
   "metadata": {},
   "outputs": [],
   "source": [
    "def query(db):\n",
    "    return db.float().mean()"
   ]
  },
  {
   "cell_type": "code",
   "execution_count": 5,
   "metadata": {},
   "outputs": [],
   "source": [
    "import matplotlib.pyplot as plt\n",
    "%matplotlib inline"
   ]
  },
  {
   "cell_type": "code",
   "execution_count": 6,
   "metadata": {},
   "outputs": [],
   "source": [
    "num_test = 1000\n",
    "list_num_entries = [1e1, 1e2, 1e3, 1e4, 1e5, 1e6]\n",
    "mean_arr = []\n",
    "\n",
    "for num_entries in list_num_entries:\n",
    "    db = (torch.rand(int(num_entries)) > 0.5).float()\n",
    "    actual_mean = torch.mean(db)\n",
    "    differ = []\n",
    "    for _ in range(num_test):\n",
    "        aug_db = get_augment_db(db)\n",
    "        aug_mean = reverse_actual_percentage(torch.mean(aug_db))\n",
    "        d = torch.abs(aug_mean - actual_mean)\n",
    "        differ.append(d.item())\n",
    "    mean_arr.append(differ)\n",
    "    "
   ]
  },
  {
   "cell_type": "code",
   "execution_count": 7,
   "metadata": {},
   "outputs": [
    {
     "data": {
      "image/png": "[encoded data removed]",
      "text/plain": [
       "<Figure size 864x432 with 1 Axes>"
      ]
     },
     "metadata": {
      "needs_background": "light"
     },
     "output_type": "display_data"
    }
   ],
   "source": [
    "plt.figure(figsize=(12, 6))\n",
    "plt.title(\"Relation of population size and result deviation\")\n",
    "plt.boxplot(mean_arr)\n",
    "plt.xlabel(\"Population size (10^x)\")\n",
    "plt.ylabel(\"Deviation\")\n",
    "plt.savefig(\"relation1.png\", dpi=200)\n",
    "plt.show()"
   ]
  },
  {
   "cell_type": "markdown",
   "metadata": {},
   "source": [
    "We can see that when the **population size increase**, Population's actual mean and augmented mean are getting **closer**"
   ]
  },
  {
   "cell_type": "markdown",
   "metadata": {},
   "source": [
    "## Project: Varying Amounts of Noise\n",
    "In this project, I want you to **augment the randomized response query** (the one we just wrote) to allow for varying amounts of randomness to be added. Specifically, I want you to **bias the first coin flip** to be higher or lower and then run the same experiment.\n",
    "\n",
    "Note - this one is a bit tricker than you might expect. You need to both adjust the likelihood of the first coin flip AND the de-skewing at the end (where we create the \"augmented_result\" variable)."
   ]
  },
  {
   "cell_type": "markdown",
   "metadata": {},
   "source": [
    "My code still work fine :D"
   ]
  },
  {
   "cell_type": "code",
   "execution_count": 8,
   "metadata": {},
   "outputs": [],
   "source": [
    "def get_differ_distribution(num_entries, list_noise=[0.1, 0.3, 0.5, 0.7, 0.9]):\n",
    "    \"\"\"\n",
    "    Generate List[List[float]] with each List[float] is the difference of actual mean and\n",
    "    average mean which is calculated from augmented mean\n",
    "    \"\"\"\n",
    "    # Generate DB\n",
    "    db = (torch.rand(num_entries) > 0.5).float()\n",
    "    actual_mean = query(db)\n",
    "    result = []\n",
    "    for noise in list_noise:\n",
    "        query_differ = []\n",
    "        for _ in range(num_test):\n",
    "            aug_db = get_augment_db(db, noise)\n",
    "            aug_mean = query(aug_db)\n",
    "            aug_mean = reverse_actual_percentage(aug_mean, noise)\n",
    "            query_differ.append(torch.abs(actual_mean - aug_mean).item())\n",
    "        result.append(query_differ)\n",
    "    return result\n",
    "\n",
    "    \n",
    "def plot_box(num_entries, result, list_noise):\n",
    "#     plt.figure(figsize=(6, 10))\n",
    "    plt.title(f\"Relation of noise and deviation (N = {num_entries})\")\n",
    "    plt.boxplot(result)\n",
    "    num_noise = len(list_noise)\n",
    "    plt.xticks(ticks=range(1, num_noise + 1), labels=list_noise)\n",
    "    plt.xlabel(\"Noise\")\n",
    "    plt.ylabel(\"Difference\")\n"
   ]
  },
  {
   "cell_type": "code",
   "execution_count": 9,
   "metadata": {},
   "outputs": [],
   "source": [
    "list_noise = [0.1, 0.3, 0.5, 0.7, 0.9]\n",
    "num_entries = 1000\n",
    "res1000 = get_differ_distribution(num_entries, list_noise)"
   ]
  },
  {
   "cell_type": "code",
   "execution_count": 10,
   "metadata": {},
   "outputs": [],
   "source": [
    "list_noise = [0.1, 0.3, 0.5, 0.7, 0.9]\n",
    "num_entries = 100000\n",
    "res100000 = get_differ_distribution(num_entries, list_noise)"
   ]
  },
  {
   "cell_type": "code",
   "execution_count": 11,
   "metadata": {},
   "outputs": [
    {
     "data": {
      "image/png": "[encoded data removed]",
      "text/plain": [
       "<Figure size 864x576 with 2 Axes>"
      ]
     },
     "metadata": {
      "needs_background": "light"
     },
     "output_type": "display_data"
    }
   ],
   "source": [
    "plt.figure(figsize=(12, 8))\n",
    "plt.subplot(1, 2, 1)\n",
    "plot_box(1000, res1000, list_noise)\n",
    "plt.subplot(1, 2, 2)\n",
    "plot_box(100000, res100000, list_noise)\n",
    "plt.savefig(\"relation2.png\", dpi=200)"
   ]
  },
  {
   "cell_type": "markdown",
   "metadata": {},
   "source": [
    "Beside the exponential increment of deviation when noise increase, we can see that when the population increase, the deviation is getting smaller. "
   ]
  }
 ],
 "metadata": {
  "kernelspec": {
   "display_name": "Python 3",
   "language": "python",
   "name": "python3"
  },
  "language_info": {
   "codemirror_mode": {
    "name": "ipython",
    "version": 3
   },
   "file_extension": ".py",
   "mimetype": "text/x-python",
   "name": "python",
   "nbconvert_exporter": "python",
   "pygments_lexer": "ipython3",
   "version": "3.7.1"
  }
 },
 "nbformat": 4,
 "nbformat_minor": 2
}
