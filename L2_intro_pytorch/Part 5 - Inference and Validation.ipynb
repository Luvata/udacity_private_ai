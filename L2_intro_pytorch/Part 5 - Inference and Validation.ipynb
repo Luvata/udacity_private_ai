{
 "cells": [
  {
   "cell_type": "markdown",
   "metadata": {},
   "source": [
    "# Inference and Validation\n",
    "\n",
    "- **inference**: Making predictions (from statistics)\n",
    "- **overfitting**: Model performs too well on the training data and  aren't able to generalize to data that hasn't been seen before\n",
    "- **validation** set: To measure model's performance on data not in the training set\n",
    "- Avoid overfitting: \n",
    "    - early stopping\n",
    "    - dropout\n",
    "    - regularization"
   ]
  },
  {
   "cell_type": "code",
   "execution_count": 1,
   "metadata": {},
   "outputs": [],
   "source": [
    "import torch\n",
    "from torchvision import datasets, transforms\n",
    "\n",
    "# Define a transform to normalize the data\n",
    "transform = transforms.Compose([transforms.ToTensor(),\n",
    "                                transforms.Normalize((0.5,), (0.5,))])\n",
    "# Download and load the training data\n",
    "trainset = datasets.FashionMNIST('~/.pytorch/F_MNIST_data/', download=True, train=True, transform=transform)\n",
    "trainloader = torch.utils.data.DataLoader(trainset, batch_size=64, shuffle=True, num_workers=4)\n",
    "\n",
    "# Download and load the test data\n",
    "testset = datasets.FashionMNIST('~/.pytorch/F_MNIST_data/', download=True, train=False, transform=transform)\n",
    "testloader = torch.utils.data.DataLoader(testset, batch_size=64, shuffle=True, num_workers=4)"
   ]
  },
  {
   "cell_type": "code",
   "execution_count": 2,
   "metadata": {},
   "outputs": [],
   "source": [
    "## Reuse model from Part 4\n",
    "\n",
    "from torch import nn, optim\n",
    "import torch.nn.functional as F\n",
    "\n",
    "class Classifier(nn.Module):\n",
    "    def __init__(self):\n",
    "        super().__init__()\n",
    "        self.fc1 = nn.Linear(784, 256)\n",
    "        self.fc2 = nn.Linear(256, 128)\n",
    "        self.fc3 = nn.Linear(128, 64)\n",
    "        self.fc4 = nn.Linear(64, 10)\n",
    "        \n",
    "    def forward(self, x):\n",
    "        x = x.view(x.shape[0], -1)\n",
    "        \n",
    "        x = F.relu(self.fc1(x))\n",
    "        x = F.relu(self.fc2(x))\n",
    "        x = F.relu(self.fc3(x))\n",
    "        x = F.log_softmax(self.fc4(x), dim=1)\n",
    "        \n",
    "        return x"
   ]
  },
  {
   "cell_type": "markdown",
   "metadata": {},
   "source": [
    "Performance measurement in validation set:\n",
    "- Accuracy $\\leftarrow$ Use in this Part\n",
    "- Precision, Recall, F1 score\n",
    "- top 5 error"
   ]
  },
  {
   "cell_type": "code",
   "execution_count": 3,
   "metadata": {},
   "outputs": [
    {
     "name": "stdout",
     "output_type": "stream",
     "text": [
      "torch.Size([64, 10])\n"
     ]
    }
   ],
   "source": [
    "model = Classifier()\n",
    "\n",
    "images, labels = next(iter(testloader))\n",
    "ps = torch.exp(model(images))\n",
    "print(ps.shape)"
   ]
  },
  {
   "cell_type": "markdown",
   "metadata": {},
   "source": [
    "`ps.topk`: return **k highest** values"
   ]
  },
  {
   "cell_type": "code",
   "execution_count": 4,
   "metadata": {},
   "outputs": [
    {
     "name": "stdout",
     "output_type": "stream",
     "text": [
      "tensor([[2],\n",
      "        [2],\n",
      "        [1],\n",
      "        [2],\n",
      "        [1],\n",
      "        [1],\n",
      "        [2],\n",
      "        [1],\n",
      "        [1],\n",
      "        [2]])\n"
     ]
    }
   ],
   "source": [
    "top_p, top_class = ps.topk(1, dim=1)\n",
    "print(top_class[:10,:])"
   ]
  },
  {
   "cell_type": "code",
   "execution_count": 5,
   "metadata": {},
   "outputs": [
    {
     "name": "stdout",
     "output_type": "stream",
     "text": [
      "torch.Size([64, 1])\n",
      "torch.Size([64, 1])\n",
      "torch.Size([64])\n"
     ]
    }
   ],
   "source": [
    "print(top_p.shape)\n",
    "print(top_class.shape)\n",
    "print(labels.shape)"
   ]
  },
  {
   "cell_type": "code",
   "execution_count": 6,
   "metadata": {},
   "outputs": [
    {
     "name": "stdout",
     "output_type": "stream",
     "text": [
      "Accuracy: 4.6875%\n"
     ]
    }
   ],
   "source": [
    "# <-same shape (64, 1) \n",
    "equals = top_class == labels.view(*top_class.shape) \n",
    "# <- torch.mean not implemented on torch.ByteTensor\n",
    "accuracy = torch.mean(equals.type(torch.FloatTensor)) \n",
    "print(f'Accuracy: {accuracy.item()*100}%')"
   ]
  },
  {
   "cell_type": "markdown",
   "metadata": {},
   "source": [
    "> Exercise: Implement the validation loop below and print out the total accuracy after the loop. "
   ]
  },
  {
   "cell_type": "code",
   "execution_count": 7,
   "metadata": {},
   "outputs": [],
   "source": [
    "model = Classifier()\n",
    "critierion = nn.NLLLoss()\n",
    "optimizer = optim.Adam(model.parameters())"
   ]
  },
  {
   "cell_type": "code",
   "execution_count": 8,
   "metadata": {},
   "outputs": [],
   "source": [
    "def accuracy(probs, labels):\n",
    "    top_probs, top_classes = probs.topk(1, dim=1) # max of each row\n",
    "    equals = top_classes == labels.view(*top_classes.shape)\n",
    "    accuracy = torch.mean(equals.type(torch.FloatTensor))\n",
    "    return accuracy"
   ]
  },
  {
   "cell_type": "code",
   "execution_count": 9,
   "metadata": {},
   "outputs": [],
   "source": [
    "import numpy as np"
   ]
  },
  {
   "cell_type": "code",
   "execution_count": 10,
   "metadata": {},
   "outputs": [
    {
     "name": "stdout",
     "output_type": "stream",
     "text": [
      "epoch #00, train loss: 0.5185, train_acc: 0.8101, val_acc: 0.8410\n",
      "epoch #01, train loss: 0.3742, train_acc: 0.8633, val_acc: 0.8508\n",
      "epoch #02, train loss: 0.3387, train_acc: 0.8743, val_acc: 0.8717\n",
      "epoch #03, train loss: 0.3158, train_acc: 0.8836, val_acc: 0.8606\n",
      "epoch #04, train loss: 0.2938, train_acc: 0.8917, val_acc: 0.8763\n",
      "epoch #05, train loss: 0.2770, train_acc: 0.8961, val_acc: 0.8771\n",
      "epoch #06, train loss: 0.2624, train_acc: 0.9022, val_acc: 0.8752\n",
      "epoch #07, train loss: 0.2509, train_acc: 0.9066, val_acc: 0.8827\n",
      "epoch #08, train loss: 0.2410, train_acc: 0.9084, val_acc: 0.8813\n",
      "epoch #09, train loss: 0.2299, train_acc: 0.9133, val_acc: 0.8800\n",
      "epoch #10, train loss: 0.2186, train_acc: 0.9172, val_acc: 0.8878\n",
      "epoch #11, train loss: 0.2079, train_acc: 0.9226, val_acc: 0.8896\n",
      "epoch #12, train loss: 0.2016, train_acc: 0.9237, val_acc: 0.8846\n",
      "epoch #13, train loss: 0.1934, train_acc: 0.9268, val_acc: 0.8817\n",
      "epoch #14, train loss: 0.1883, train_acc: 0.9289, val_acc: 0.8852\n",
      "epoch #15, train loss: 0.1752, train_acc: 0.9338, val_acc: 0.8866\n",
      "epoch #16, train loss: 0.1687, train_acc: 0.9360, val_acc: 0.8860\n",
      "epoch #17, train loss: 0.1643, train_acc: 0.9370, val_acc: 0.8859\n",
      "epoch #18, train loss: 0.1581, train_acc: 0.9397, val_acc: 0.8866\n",
      "epoch #19, train loss: 0.1533, train_acc: 0.9412, val_acc: 0.8868\n",
      "epoch #20, train loss: 0.1442, train_acc: 0.9444, val_acc: 0.8879\n",
      "epoch #21, train loss: 0.1396, train_acc: 0.9468, val_acc: 0.8812\n",
      "epoch #22, train loss: 0.1341, train_acc: 0.9488, val_acc: 0.8822\n",
      "epoch #23, train loss: 0.1321, train_acc: 0.9507, val_acc: 0.8875\n",
      "epoch #24, train loss: 0.1251, train_acc: 0.9526, val_acc: 0.8894\n",
      "epoch #25, train loss: 0.1191, train_acc: 0.9544, val_acc: 0.8879\n",
      "epoch #26, train loss: 0.1159, train_acc: 0.9553, val_acc: 0.8853\n",
      "epoch #27, train loss: 0.1125, train_acc: 0.9564, val_acc: 0.8902\n",
      "epoch #28, train loss: 0.1091, train_acc: 0.9587, val_acc: 0.8909\n",
      "epoch #29, train loss: 0.1028, train_acc: 0.9610, val_acc: 0.8869\n"
     ]
    }
   ],
   "source": [
    "epochs=30\n",
    "steps=0\n",
    "train_accs, val_accs = [], []\n",
    "\n",
    "for epoch in range(epochs):\n",
    "    running_loss = 0\n",
    "    train_acc = []\n",
    "    for images, labels in trainloader:\n",
    "        optimizer.zero_grad()\n",
    "        log_probs = model(images)\n",
    "        loss = critierion(log_probs, labels)\n",
    "        loss.backward()\n",
    "        optimizer.step()\n",
    "        \n",
    "        running_loss += loss.item()\n",
    "        train_acc.append(accuracy(log_probs, labels))\n",
    "    else:\n",
    "        train_loss = running_loss / len(trainloader)\n",
    "        with torch.no_grad():\n",
    "            val_acc = []\n",
    "            for images, labels in testloader:\n",
    "                log_probs = model(images)\n",
    "                val_acc.append(accuracy(log_probs, labels))\n",
    "            else:\n",
    "                val_acc = np.mean(val_acc)\n",
    "                train_acc = np.mean(train_acc)\n",
    "                val_accs.append(val_acc)\n",
    "                train_accs.append(train_acc)\n",
    "                print(f\"epoch #{epoch:02d}, train loss: {train_loss:.4f}, train_acc: {train_acc:.4f}, val_acc: {val_acc:.4f}\")\n",
    "                "
   ]
  },
  {
   "cell_type": "code",
   "execution_count": 11,
   "metadata": {},
   "outputs": [
    {
     "data": {
      "image/png": "[encoded data removed]",
      "text/plain": [
       "<Figure size 576x360 with 1 Axes>"
      ]
     },
     "metadata": {
      "needs_background": "light"
     },
     "output_type": "display_data"
    }
   ],
   "source": [
    "import matplotlib.pyplot as plt\n",
    "%matplotlib inline\n",
    "\n",
    "plt.figure(figsize=(8, 5))\n",
    "plt.plot(range(epochs), train_accs, label='Train accuracy')\n",
    "plt.plot(range(epochs), val_accs, label='Validation accuracy')\n",
    "plt.xlabel(\"Epoch\")\n",
    "plt.ylabel(\"Accuracy\")\n",
    "plt.legend()\n",
    "plt.grid()\n",
    "plt.title(\"Overfitting example\")\n",
    "plt.show()"
   ]
  },
  {
   "cell_type": "markdown",
   "metadata": {},
   "source": [
    "### Overfitting\n",
    "\n",
    "- Problems of model when failed to generalizing to data outside of the training set leading to validation accuracy decreasing\n",
    "- Early stopping: Use the version of model when it has lowest validation loss, or highest validation accuracy\n",
    "- `nn.Dropout`: \n",
    "    - Randomly drop input units $\\rightarrow$ forces network to share information between weights\n",
    "    - Using when training with `model.train()`, turn off dropout during validations with `model.eval()`"
   ]
  },
  {
   "cell_type": "markdown",
   "metadata": {},
   "source": [
    "> **Exercise**: Add dropout to your model and train it on Fashion-MNIST again. See if you can get a lower validation loss or higher accuracy."
   ]
  },
  {
   "cell_type": "code",
   "execution_count": 12,
   "metadata": {},
   "outputs": [],
   "source": [
    "from torch import nn, optim\n",
    "import torch.nn.functional as F\n",
    "\n",
    "class BetterClassifier(nn.Module):\n",
    "    def __init__(self):\n",
    "        super().__init__()\n",
    "        self.fc1 = nn.Linear(784, 256)\n",
    "        self.fc2 = nn.Linear(256, 128)\n",
    "        self.fc3 = nn.Linear(128, 64)\n",
    "        self.fc4 = nn.Linear(64, 10)\n",
    "        self.dropout = nn.Dropout(p=0.2)\n",
    "        \n",
    "    def forward(self, x):\n",
    "        x = x.view(x.shape[0], -1)\n",
    "        x = self.dropout(F.relu(self.fc1(x)))\n",
    "        x = self.dropout(F.relu(self.fc2(x)))\n",
    "        x = self.dropout(F.relu(self.fc3(x)))\n",
    "        x = F.log_softmax(self.fc4(x), dim=1)\n",
    "        \n",
    "        return x"
   ]
  },
  {
   "cell_type": "code",
   "execution_count": 13,
   "metadata": {},
   "outputs": [
    {
     "name": "stdout",
     "output_type": "stream",
     "text": [
      "epoch #00, train loss: 0.5955, train_acc: 0.7848, val_acc: 0.8327\n",
      "epoch #01, train loss: 0.4318, train_acc: 0.8457, val_acc: 0.8545\n",
      "epoch #02, train loss: 0.3956, train_acc: 0.8583, val_acc: 0.8592\n",
      "epoch #03, train loss: 0.3692, train_acc: 0.8690, val_acc: 0.8661\n",
      "epoch #04, train loss: 0.3519, train_acc: 0.8726, val_acc: 0.8636\n",
      "epoch #05, train loss: 0.3390, train_acc: 0.8784, val_acc: 0.8682\n",
      "epoch #06, train loss: 0.3314, train_acc: 0.8810, val_acc: 0.8690\n",
      "epoch #07, train loss: 0.3179, train_acc: 0.8835, val_acc: 0.8759\n",
      "epoch #08, train loss: 0.3088, train_acc: 0.8878, val_acc: 0.8776\n",
      "epoch #09, train loss: 0.3057, train_acc: 0.8883, val_acc: 0.8769\n",
      "epoch #10, train loss: 0.2941, train_acc: 0.8925, val_acc: 0.8822\n",
      "epoch #11, train loss: 0.2906, train_acc: 0.8941, val_acc: 0.8787\n",
      "epoch #12, train loss: 0.2852, train_acc: 0.8962, val_acc: 0.8833\n",
      "epoch #13, train loss: 0.2806, train_acc: 0.8968, val_acc: 0.8803\n",
      "epoch #14, train loss: 0.2734, train_acc: 0.9001, val_acc: 0.8872\n",
      "epoch #15, train loss: 0.2687, train_acc: 0.9013, val_acc: 0.8828\n",
      "epoch #16, train loss: 0.2618, train_acc: 0.9033, val_acc: 0.8837\n",
      "epoch #17, train loss: 0.2566, train_acc: 0.9054, val_acc: 0.8822\n",
      "epoch #18, train loss: 0.2530, train_acc: 0.9069, val_acc: 0.8838\n",
      "epoch #19, train loss: 0.2498, train_acc: 0.9088, val_acc: 0.8877\n",
      "epoch #20, train loss: 0.2486, train_acc: 0.9081, val_acc: 0.8872\n",
      "epoch #21, train loss: 0.2460, train_acc: 0.9094, val_acc: 0.8873\n",
      "epoch #22, train loss: 0.2418, train_acc: 0.9112, val_acc: 0.8906\n",
      "epoch #23, train loss: 0.2355, train_acc: 0.9137, val_acc: 0.8885\n",
      "epoch #24, train loss: 0.2371, train_acc: 0.9116, val_acc: 0.8895\n",
      "epoch #25, train loss: 0.2342, train_acc: 0.9140, val_acc: 0.8858\n",
      "epoch #26, train loss: 0.2266, train_acc: 0.9168, val_acc: 0.8904\n",
      "epoch #27, train loss: 0.2267, train_acc: 0.9151, val_acc: 0.8905\n",
      "epoch #28, train loss: 0.2249, train_acc: 0.9168, val_acc: 0.8879\n",
      "epoch #29, train loss: 0.2235, train_acc: 0.9183, val_acc: 0.8910\n"
     ]
    }
   ],
   "source": [
    "model = BetterClassifier()\n",
    "critierion = nn.NLLLoss()\n",
    "optimizer = optim.Adam(model.parameters())\n",
    "\n",
    "epochs=30\n",
    "steps=0\n",
    "train_accs, val_accs = [], []\n",
    "\n",
    "for epoch in range(epochs):\n",
    "    running_loss = 0\n",
    "    train_acc = []\n",
    "    model.train() # Turn on Dropout\n",
    "    for images, labels in trainloader:\n",
    "        optimizer.zero_grad()\n",
    "        log_probs = model(images)\n",
    "        loss = critierion(log_probs, labels)\n",
    "        loss.backward()\n",
    "        optimizer.step()\n",
    "        \n",
    "        running_loss += loss.item()\n",
    "        train_acc.append(accuracy(log_probs, labels))\n",
    "    else:\n",
    "        train_loss = running_loss / len(trainloader)\n",
    "        with torch.no_grad():\n",
    "            model.eval() # Turn off Dropout\n",
    "            val_acc = []\n",
    "            for images, labels in testloader:\n",
    "                log_probs = model(images)\n",
    "                val_acc.append(accuracy(log_probs, labels))\n",
    "            else:\n",
    "                val_acc = np.mean(val_acc)\n",
    "                train_acc = np.mean(train_acc)\n",
    "                val_accs.append(val_acc)\n",
    "                train_accs.append(train_acc)\n",
    "                print(f\"epoch #{epoch:02d}, train loss: {train_loss:.4f}, train_acc: {train_acc:.4f}, val_acc: {val_acc:.4f}\")\n",
    "                "
   ]
  },
  {
   "cell_type": "code",
   "execution_count": 14,
   "metadata": {},
   "outputs": [
    {
     "data": {
      "image/png": "[encoded data removed]",
      "text/plain": [
       "<Figure size 576x360 with 1 Axes>"
      ]
     },
     "metadata": {
      "needs_background": "light"
     },
     "output_type": "display_data"
    }
   ],
   "source": [
    "import matplotlib.pyplot as plt\n",
    "%matplotlib inline\n",
    "\n",
    "plt.figure(figsize=(8, 5))\n",
    "plt.plot(range(epochs), train_accs, label='Train accuracy')\n",
    "plt.plot(range(epochs), val_accs, label='Validation accuracy')\n",
    "plt.xlabel(\"Epoch\")\n",
    "plt.ylabel(\"Accuracy\")\n",
    "plt.legend()\n",
    "plt.grid()\n",
    "plt.title(\"Lessen overfitting\")\n",
    "plt.show()"
   ]
  },
  {
   "cell_type": "markdown",
   "metadata": {},
   "source": [
    "### Inference"
   ]
  },
  {
   "cell_type": "code",
   "execution_count": 15,
   "metadata": {},
   "outputs": [
    {
     "data": {
      "image/png": "[encoded data removed]",
      "text/plain": [
       "<Figure size 432x648 with 2 Axes>"
      ]
     },
     "metadata": {
      "needs_background": "light"
     },
     "output_type": "display_data"
    }
   ],
   "source": [
    "# Import helper module (should be in the repo)\n",
    "import helper\n",
    "\n",
    "# Test out your network!\n",
    "\n",
    "model.eval()\n",
    "\n",
    "dataiter = iter(testloader)\n",
    "images, labels = dataiter.next()\n",
    "img = images[0]\n",
    "# Convert 2D image to 1D vector\n",
    "img = img.view(1, 784)\n",
    "\n",
    "# Calculate the class probabilities (softmax) for img\n",
    "with torch.no_grad():\n",
    "    output = model.forward(img)\n",
    "\n",
    "ps = torch.exp(output)\n",
    "\n",
    "# Plot the image and probabilities\n",
    "helper.view_classify(img.view(1, 28, 28), ps, version='Fashion')"
   ]
  }
 ],
 "metadata": {
  "kernelspec": {
   "display_name": "Python 3",
   "language": "python",
   "name": "python3"
  },
  "language_info": {
   "codemirror_mode": {
    "name": "ipython",
    "version": 3
   },
   "file_extension": ".py",
   "mimetype": "text/x-python",
   "name": "python",
   "nbconvert_exporter": "python",
   "pygments_lexer": "ipython3",
   "version": "3.7.1"
  }
 },
 "nbformat": 4,
 "nbformat_minor": 2
}
